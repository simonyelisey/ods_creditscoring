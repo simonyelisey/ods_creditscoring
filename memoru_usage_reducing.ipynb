{
 "cells": [
  {
   "cell_type": "code",
   "execution_count": 30,
   "id": "11fc8f67",
   "metadata": {},
   "outputs": [],
   "source": [
    "import pandas as pd\n",
    "import numpy as np\n",
    "import gc"
   ]
  },
  {
   "cell_type": "markdown",
   "id": "8d1be126",
   "metadata": {},
   "source": [
    "Training set divided on 12 parts and Testing set divided to 2 parts.\n",
    "\n",
    "Let's calculate memory used by dataset."
   ]
  },
  {
   "cell_type": "code",
   "execution_count": 13,
   "id": "fae3ac78",
   "metadata": {},
   "outputs": [],
   "source": [
    "# read the data\n",
    "train = pd.read_parquet('train_data/train_data_0.pq')\n",
    "test = pd.read_parquet('test_data/test_data_0.pq')"
   ]
  },
  {
   "cell_type": "code",
   "execution_count": 22,
   "id": "ca22a69e",
   "metadata": {},
   "outputs": [
    {
     "name": "stdout",
     "output_type": "stream",
     "text": [
      "One training part uses 0.96 GB of RAM\n",
      "Approximately whole trainnig set uses 11.52 GB of RAM\n",
      "\n",
      "One testing part uses 1.17 GB of RAM\n",
      "Approximately whole testing set uses 2.34 GB of RAM\n"
     ]
    }
   ],
   "source": [
    "# memory usage\n",
    "train_usage = round(train.memory_usage(index=True).sum() / 10**9, 2)\n",
    "test_usage = round(test.memory_usage(index=True).sum() / 10**9, 2)\n",
    "\n",
    "print(f\"One training part uses {train_usage} GB of RAM\")\n",
    "print(f\"Approximately whole trainnig set uses {train_usage * 12} GB of RAM\")\n",
    "\n",
    "print(f\"\\nOne testing part uses {test_usage} GB of RAM\")\n",
    "print(f\"Approximately whole testing set uses {test_usage * 2} GB of RAM\")"
   ]
  },
  {
   "cell_type": "markdown",
   "id": "5ec9dcc1",
   "metadata": {},
   "source": [
    "We will change the dtypes of data to reduce memory usage."
   ]
  },
  {
   "cell_type": "code",
   "execution_count": 28,
   "id": "2f631315",
   "metadata": {},
   "outputs": [
    {
     "data": {
      "text/html": [
       "<div>\n",
       "<style scoped>\n",
       "    .dataframe tbody tr th:only-of-type {\n",
       "        vertical-align: middle;\n",
       "    }\n",
       "\n",
       "    .dataframe tbody tr th {\n",
       "        vertical-align: top;\n",
       "    }\n",
       "\n",
       "    .dataframe thead th {\n",
       "        text-align: right;\n",
       "    }\n",
       "</style>\n",
       "<table border=\"1\" class=\"dataframe\">\n",
       "  <thead>\n",
       "    <tr style=\"text-align: right;\">\n",
       "      <th></th>\n",
       "      <th>id</th>\n",
       "      <th>rn</th>\n",
       "      <th>pre_since_opened</th>\n",
       "      <th>pre_since_confirmed</th>\n",
       "      <th>pre_pterm</th>\n",
       "      <th>pre_fterm</th>\n",
       "      <th>pre_till_pclose</th>\n",
       "      <th>pre_till_fclose</th>\n",
       "      <th>pre_loans_credit_limit</th>\n",
       "      <th>pre_loans_next_pay_summ</th>\n",
       "      <th>...</th>\n",
       "      <th>enc_paym_21</th>\n",
       "      <th>enc_paym_22</th>\n",
       "      <th>enc_paym_23</th>\n",
       "      <th>enc_paym_24</th>\n",
       "      <th>enc_loans_account_holder_type</th>\n",
       "      <th>enc_loans_credit_status</th>\n",
       "      <th>enc_loans_credit_type</th>\n",
       "      <th>enc_loans_account_cur</th>\n",
       "      <th>pclose_flag</th>\n",
       "      <th>fclose_flag</th>\n",
       "    </tr>\n",
       "  </thead>\n",
       "  <tbody>\n",
       "    <tr>\n",
       "      <th>1165659</th>\n",
       "      <td>148981</td>\n",
       "      <td>7</td>\n",
       "      <td>13</td>\n",
       "      <td>6</td>\n",
       "      <td>3</td>\n",
       "      <td>5</td>\n",
       "      <td>13</td>\n",
       "      <td>3</td>\n",
       "      <td>5</td>\n",
       "      <td>1</td>\n",
       "      <td>...</td>\n",
       "      <td>3</td>\n",
       "      <td>3</td>\n",
       "      <td>3</td>\n",
       "      <td>4</td>\n",
       "      <td>1</td>\n",
       "      <td>3</td>\n",
       "      <td>4</td>\n",
       "      <td>1</td>\n",
       "      <td>0</td>\n",
       "      <td>0</td>\n",
       "    </tr>\n",
       "    <tr>\n",
       "      <th>1645399</th>\n",
       "      <td>209358</td>\n",
       "      <td>8</td>\n",
       "      <td>6</td>\n",
       "      <td>11</td>\n",
       "      <td>14</td>\n",
       "      <td>3</td>\n",
       "      <td>1</td>\n",
       "      <td>5</td>\n",
       "      <td>10</td>\n",
       "      <td>2</td>\n",
       "      <td>...</td>\n",
       "      <td>3</td>\n",
       "      <td>3</td>\n",
       "      <td>3</td>\n",
       "      <td>4</td>\n",
       "      <td>1</td>\n",
       "      <td>3</td>\n",
       "      <td>4</td>\n",
       "      <td>1</td>\n",
       "      <td>0</td>\n",
       "      <td>0</td>\n",
       "    </tr>\n",
       "    <tr>\n",
       "      <th>1530527</th>\n",
       "      <td>195174</td>\n",
       "      <td>4</td>\n",
       "      <td>14</td>\n",
       "      <td>4</td>\n",
       "      <td>14</td>\n",
       "      <td>7</td>\n",
       "      <td>5</td>\n",
       "      <td>7</td>\n",
       "      <td>17</td>\n",
       "      <td>2</td>\n",
       "      <td>...</td>\n",
       "      <td>0</td>\n",
       "      <td>3</td>\n",
       "      <td>3</td>\n",
       "      <td>4</td>\n",
       "      <td>1</td>\n",
       "      <td>2</td>\n",
       "      <td>3</td>\n",
       "      <td>1</td>\n",
       "      <td>0</td>\n",
       "      <td>0</td>\n",
       "    </tr>\n",
       "    <tr>\n",
       "      <th>93539</th>\n",
       "      <td>12128</td>\n",
       "      <td>2</td>\n",
       "      <td>14</td>\n",
       "      <td>9</td>\n",
       "      <td>3</td>\n",
       "      <td>5</td>\n",
       "      <td>9</td>\n",
       "      <td>1</td>\n",
       "      <td>5</td>\n",
       "      <td>1</td>\n",
       "      <td>...</td>\n",
       "      <td>3</td>\n",
       "      <td>3</td>\n",
       "      <td>3</td>\n",
       "      <td>4</td>\n",
       "      <td>1</td>\n",
       "      <td>3</td>\n",
       "      <td>4</td>\n",
       "      <td>1</td>\n",
       "      <td>0</td>\n",
       "      <td>0</td>\n",
       "    </tr>\n",
       "    <tr>\n",
       "      <th>540062</th>\n",
       "      <td>69482</td>\n",
       "      <td>10</td>\n",
       "      <td>13</td>\n",
       "      <td>5</td>\n",
       "      <td>17</td>\n",
       "      <td>16</td>\n",
       "      <td>16</td>\n",
       "      <td>12</td>\n",
       "      <td>2</td>\n",
       "      <td>2</td>\n",
       "      <td>...</td>\n",
       "      <td>0</td>\n",
       "      <td>0</td>\n",
       "      <td>0</td>\n",
       "      <td>1</td>\n",
       "      <td>1</td>\n",
       "      <td>3</td>\n",
       "      <td>4</td>\n",
       "      <td>1</td>\n",
       "      <td>0</td>\n",
       "      <td>0</td>\n",
       "    </tr>\n",
       "  </tbody>\n",
       "</table>\n",
       "<p>5 rows × 61 columns</p>\n",
       "</div>"
      ],
      "text/plain": [
       "             id  rn  pre_since_opened  pre_since_confirmed  pre_pterm  \\\n",
       "1165659  148981   7                13                    6          3   \n",
       "1645399  209358   8                 6                   11         14   \n",
       "1530527  195174   4                14                    4         14   \n",
       "93539     12128   2                14                    9          3   \n",
       "540062    69482  10                13                    5         17   \n",
       "\n",
       "         pre_fterm  pre_till_pclose  pre_till_fclose  pre_loans_credit_limit  \\\n",
       "1165659          5               13                3                       5   \n",
       "1645399          3                1                5                      10   \n",
       "1530527          7                5                7                      17   \n",
       "93539            5                9                1                       5   \n",
       "540062          16               16               12                       2   \n",
       "\n",
       "         pre_loans_next_pay_summ  ...  enc_paym_21  enc_paym_22  enc_paym_23  \\\n",
       "1165659                        1  ...            3            3            3   \n",
       "1645399                        2  ...            3            3            3   \n",
       "1530527                        2  ...            0            3            3   \n",
       "93539                          1  ...            3            3            3   \n",
       "540062                         2  ...            0            0            0   \n",
       "\n",
       "         enc_paym_24  enc_loans_account_holder_type  enc_loans_credit_status  \\\n",
       "1165659            4                              1                        3   \n",
       "1645399            4                              1                        3   \n",
       "1530527            4                              1                        2   \n",
       "93539              4                              1                        3   \n",
       "540062             1                              1                        3   \n",
       "\n",
       "         enc_loans_credit_type  enc_loans_account_cur  pclose_flag  \\\n",
       "1165659                      4                      1            0   \n",
       "1645399                      4                      1            0   \n",
       "1530527                      3                      1            0   \n",
       "93539                        4                      1            0   \n",
       "540062                       4                      1            0   \n",
       "\n",
       "         fclose_flag  \n",
       "1165659            0  \n",
       "1645399            0  \n",
       "1530527            0  \n",
       "93539              0  \n",
       "540062             0  \n",
       "\n",
       "[5 rows x 61 columns]"
      ]
     },
     "execution_count": 28,
     "metadata": {},
     "output_type": "execute_result"
    }
   ],
   "source": [
    "train.sample(5)"
   ]
  },
  {
   "cell_type": "code",
   "execution_count": 27,
   "id": "2074d86b",
   "metadata": {},
   "outputs": [
    {
     "data": {
      "text/plain": [
       "int64    61\n",
       "dtype: int64"
      ]
     },
     "execution_count": 27,
     "metadata": {},
     "output_type": "execute_result"
    }
   ],
   "source": [
    "# data dtypes\n",
    "train.dtypes.value_counts()"
   ]
  },
  {
   "cell_type": "code",
   "execution_count": 32,
   "id": "432f4299",
   "metadata": {},
   "outputs": [
    {
     "data": {
      "text/plain": [
       "0"
      ]
     },
     "execution_count": 32,
     "metadata": {},
     "output_type": "execute_result"
    }
   ],
   "source": [
    "del train, test, train_usage, test_usage\n",
    "gc.collect()"
   ]
  },
  {
   "cell_type": "markdown",
   "id": "73aa7af3",
   "metadata": {},
   "source": [
    "- id -> **int32**\n",
    "- the rest of columns -> **int8**"
   ]
  },
  {
   "cell_type": "code",
   "execution_count": 34,
   "id": "d6623dce",
   "metadata": {},
   "outputs": [],
   "source": [
    "# train\n",
    "for num in range(12):  \n",
    "  data = pd.read_parquet(f'train_data/train_data_{num}.pq')\n",
    "  for col in data.columns[1:]:\n",
    "    data[col] = data[col].astype('int8')\n",
    "  data['id'] = data['id'].astype('int32')\n",
    "  data.to_parquet(f'train_data/train_data_{num}.pq')\n",
    "\n",
    "del data"
   ]
  },
  {
   "cell_type": "code",
   "execution_count": 31,
   "id": "b7ef32af",
   "metadata": {},
   "outputs": [
    {
     "data": {
      "text/plain": [
       "32"
      ]
     },
     "execution_count": 31,
     "metadata": {},
     "output_type": "execute_result"
    }
   ],
   "source": [
    "# test\n",
    "for num in range(2):  \n",
    "  data = pd.read_parquet(f'test_data/test_data_{num}.pq')\n",
    "  for col in data.columns[1:]:\n",
    "    data[col] = data[col].astype('int8')\n",
    "  data['id'] = data['id'].astype('int32')\n",
    "  data.to_parquet(f'test_data/test_data_{num}.pq')\n",
    "\n",
    "del data\n",
    "gc.collect()"
   ]
  },
  {
   "cell_type": "code",
   "execution_count": 33,
   "id": "489f78b7",
   "metadata": {},
   "outputs": [
    {
     "name": "stdout",
     "output_type": "stream",
     "text": [
      "One training part uses 0.13 GB of RAM\n",
      "Approximately whole trainnig set uses 1.56 GB of RAM\n",
      "\n",
      "One testing part uses 0.15 GB of RAM\n",
      "Approximately whole testing set uses 0.3 GB of RAM\n"
     ]
    }
   ],
   "source": [
    "# read the new data\n",
    "new_train = pd.read_parquet('train_data/train_data_0.pq')\n",
    "new_test = pd.read_parquet('test_data/test_data_0.pq')\n",
    "\n",
    "# memory usage\n",
    "train_usage = round(new_train.memory_usage(index=True).sum() / 10**9, 2)\n",
    "test_usage = round(new_test.memory_usage(index=True).sum() / 10**9, 2)\n",
    "\n",
    "print(f\"One training part uses {train_usage} GB of RAM\")\n",
    "print(f\"Approximately whole trainnig set uses {train_usage * 12} GB of RAM\")\n",
    "\n",
    "print(f\"\\nOne testing part uses {test_usage} GB of RAM\")\n",
    "print(f\"Approximately whole testing set uses {test_usage * 2} GB of RAM\")"
   ]
  },
  {
   "cell_type": "markdown",
   "id": "33f6d500",
   "metadata": {},
   "source": [
    "CHANGING THE DATA TYPE ALLOWED US TO REDUCE MEMORY USAGE BY ALMOST 10 TIMES."
   ]
  }
 ],
 "metadata": {
  "kernelspec": {
   "display_name": "Python 3 (ipykernel)",
   "language": "python",
   "name": "python3"
  },
  "language_info": {
   "codemirror_mode": {
    "name": "ipython",
    "version": 3
   },
   "file_extension": ".py",
   "mimetype": "text/x-python",
   "name": "python",
   "nbconvert_exporter": "python",
   "pygments_lexer": "ipython3",
   "version": "3.9.7"
  }
 },
 "nbformat": 4,
 "nbformat_minor": 5
}
